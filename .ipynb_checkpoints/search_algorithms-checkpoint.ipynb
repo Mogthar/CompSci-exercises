{
 "cells": [
  {
   "cell_type": "code",
   "execution_count": 1,
   "metadata": {},
   "outputs": [],
   "source": [
    "import numpy as np"
   ]
  },
  {
   "cell_type": "code",
   "execution_count": 5,
   "metadata": {},
   "outputs": [],
   "source": [
    "# recursive funcitons need to return itself in order to output a value different from None!\n",
    "def BinarySearchRecursive(sorted_list, start_index, end_index, target_value):\n",
    "    \n",
    "    if start_index == end_index:\n",
    "        if sorted_list[start_index] == target_value:\n",
    "            return start_index\n",
    "        else:\n",
    "            print(\"not found\")\n",
    "            return None\n",
    "\n",
    "    mid_point = (start_index + end_index) // 2\n",
    "    if sorted_list[mid_point] == target_value:\n",
    "        return mid_point\n",
    "    elif sorted_list[mid_point] < target_value:\n",
    "        return BinarySearchRecursive(sorted_list, mid_point + 1, end_index, target_value)\n",
    "    else:\n",
    "        return BinarySearchRecursive(sorted_list, start_index, mid_point - 1, target_value)\n",
    "    \n",
    "def BinarySearchRecursiveBool(sorted_list, target_value):\n",
    "    if len(sorted_list) == 0:\n",
    "        return False\n",
    "    \n",
    "    mid_point = len(sorted_list) // 2\n",
    "    if sorted_list[mid_point] == target_value:\n",
    "        return True\n",
    "    elif sorted_list[mid_point] > target_value:\n",
    "        return BinarySearchRecursiveBool(sorted_list[0:mid_point], target_value)\n",
    "    else:\n",
    "        return BinarySearchRecursiveBool(sorted_list[mid_point+1:], target_value)"
   ]
  },
  {
   "cell_type": "code",
   "execution_count": 7,
   "metadata": {},
   "outputs": [
    {
     "name": "stdout",
     "output_type": "stream",
     "text": [
      "2\n",
      "True\n"
     ]
    }
   ],
   "source": [
    "list_to_search = [1,3,7,9,13,16,18,22,26,29,30,31,34,36,48,49,50,52,56,57,63,64,66,78,79,99]\n",
    "target = 7\n",
    "print(BinarySearchRecursive(list_to_search, 0, len(list_to_search)-1, target))\n",
    "print(BinarySearchRecursiveBool(list_to_search, target))"
   ]
  },
  {
   "cell_type": "code",
   "execution_count": null,
   "metadata": {},
   "outputs": [],
   "source": []
  }
 ],
 "metadata": {
  "kernelspec": {
   "display_name": "Python 3",
   "language": "python",
   "name": "python3"
  },
  "language_info": {
   "codemirror_mode": {
    "name": "ipython",
    "version": 3
   },
   "file_extension": ".py",
   "mimetype": "text/x-python",
   "name": "python",
   "nbconvert_exporter": "python",
   "pygments_lexer": "ipython3",
   "version": "3.7.1"
  }
 },
 "nbformat": 4,
 "nbformat_minor": 2
}
